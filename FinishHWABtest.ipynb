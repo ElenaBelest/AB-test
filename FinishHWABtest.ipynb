{
 "cells": [
  {
   "cell_type": "code",
   "execution_count": 1,
   "id": "bcbe9f62",
   "metadata": {},
   "outputs": [],
   "source": [
    "from scipy.stats import ttest_1samp\n",
    "import numpy as np\n",
    "\n",
    "import warnings\n",
    "warnings.filterwarnings('ignore')\n",
    "warnings.warn('DelftStack')\n",
    "warnings.warn('Do not show this message')"
   ]
  },
  {
   "cell_type": "code",
   "execution_count": 2,
   "id": "6c73bd94",
   "metadata": {},
   "outputs": [],
   "source": [
    "import matplotlib.pyplot as plt\n",
    "import seaborn as sns\n",
    "import pandas as pd\n"
   ]
  },
  {
   "cell_type": "markdown",
   "id": "453928ed",
   "metadata": {},
   "source": [
    "**Задача:** Проанализируйте результаты эксперимента и напишите свои рекомендации менеджеру.\n",
    "\n",
    "Mobile Games AB Testing with Cookie Cats"
   ]
  },
  {
   "cell_type": "markdown",
   "id": "6ba0cf6e",
   "metadata": {},
   "source": [
    "Считываем данные для анализа"
   ]
  },
  {
   "cell_type": "code",
   "execution_count": 3,
   "id": "ab7862aa",
   "metadata": {},
   "outputs": [
    {
     "data": {
      "text/html": [
       "<div>\n",
       "<style scoped>\n",
       "    .dataframe tbody tr th:only-of-type {\n",
       "        vertical-align: middle;\n",
       "    }\n",
       "\n",
       "    .dataframe tbody tr th {\n",
       "        vertical-align: top;\n",
       "    }\n",
       "\n",
       "    .dataframe thead th {\n",
       "        text-align: right;\n",
       "    }\n",
       "</style>\n",
       "<table border=\"1\" class=\"dataframe\">\n",
       "  <thead>\n",
       "    <tr style=\"text-align: right;\">\n",
       "      <th></th>\n",
       "      <th>userid</th>\n",
       "      <th>version</th>\n",
       "      <th>sum_gamerounds</th>\n",
       "      <th>retention_1</th>\n",
       "      <th>retention_7</th>\n",
       "    </tr>\n",
       "  </thead>\n",
       "  <tbody>\n",
       "    <tr>\n",
       "      <th>0</th>\n",
       "      <td>116</td>\n",
       "      <td>gate_30</td>\n",
       "      <td>3</td>\n",
       "      <td>0</td>\n",
       "      <td>0</td>\n",
       "    </tr>\n",
       "    <tr>\n",
       "      <th>1</th>\n",
       "      <td>337</td>\n",
       "      <td>gate_30</td>\n",
       "      <td>38</td>\n",
       "      <td>1</td>\n",
       "      <td>0</td>\n",
       "    </tr>\n",
       "    <tr>\n",
       "      <th>2</th>\n",
       "      <td>377</td>\n",
       "      <td>gate_40</td>\n",
       "      <td>165</td>\n",
       "      <td>1</td>\n",
       "      <td>0</td>\n",
       "    </tr>\n",
       "    <tr>\n",
       "      <th>3</th>\n",
       "      <td>483</td>\n",
       "      <td>gate_40</td>\n",
       "      <td>1</td>\n",
       "      <td>0</td>\n",
       "      <td>0</td>\n",
       "    </tr>\n",
       "    <tr>\n",
       "      <th>4</th>\n",
       "      <td>488</td>\n",
       "      <td>gate_40</td>\n",
       "      <td>179</td>\n",
       "      <td>1</td>\n",
       "      <td>1</td>\n",
       "    </tr>\n",
       "    <tr>\n",
       "      <th>5</th>\n",
       "      <td>540</td>\n",
       "      <td>gate_40</td>\n",
       "      <td>187</td>\n",
       "      <td>1</td>\n",
       "      <td>1</td>\n",
       "    </tr>\n",
       "    <tr>\n",
       "      <th>6</th>\n",
       "      <td>1066</td>\n",
       "      <td>gate_30</td>\n",
       "      <td>0</td>\n",
       "      <td>0</td>\n",
       "      <td>0</td>\n",
       "    </tr>\n",
       "    <tr>\n",
       "      <th>7</th>\n",
       "      <td>1444</td>\n",
       "      <td>gate_40</td>\n",
       "      <td>2</td>\n",
       "      <td>0</td>\n",
       "      <td>0</td>\n",
       "    </tr>\n",
       "    <tr>\n",
       "      <th>8</th>\n",
       "      <td>1574</td>\n",
       "      <td>gate_40</td>\n",
       "      <td>108</td>\n",
       "      <td>1</td>\n",
       "      <td>1</td>\n",
       "    </tr>\n",
       "    <tr>\n",
       "      <th>9</th>\n",
       "      <td>1587</td>\n",
       "      <td>gate_40</td>\n",
       "      <td>153</td>\n",
       "      <td>1</td>\n",
       "      <td>0</td>\n",
       "    </tr>\n",
       "  </tbody>\n",
       "</table>\n",
       "</div>"
      ],
      "text/plain": [
       "   userid  version  sum_gamerounds  retention_1  retention_7\n",
       "0     116  gate_30               3            0            0\n",
       "1     337  gate_30              38            1            0\n",
       "2     377  gate_40             165            1            0\n",
       "3     483  gate_40               1            0            0\n",
       "4     488  gate_40             179            1            1\n",
       "5     540  gate_40             187            1            1\n",
       "6    1066  gate_30               0            0            0\n",
       "7    1444  gate_40               2            0            0\n",
       "8    1574  gate_40             108            1            1\n",
       "9    1587  gate_40             153            1            0"
      ]
     },
     "execution_count": 3,
     "metadata": {},
     "output_type": "execute_result"
    }
   ],
   "source": [
    "df = pd.read_excel('D:\\Lena\\Geekbrains\\Аналитика курс\\АВ тестирование\\Lesson 9\\ABtest9.xlsx')\n",
    "df.head(10)"
   ]
  },
  {
   "cell_type": "code",
   "execution_count": 4,
   "id": "e79e2edc",
   "metadata": {},
   "outputs": [
    {
     "name": "stdout",
     "output_type": "stream",
     "text": [
      "<class 'pandas.core.frame.DataFrame'>\n",
      "RangeIndex: 90189 entries, 0 to 90188\n",
      "Data columns (total 5 columns):\n",
      " #   Column          Non-Null Count  Dtype \n",
      "---  ------          --------------  ----- \n",
      " 0   userid          90189 non-null  int64 \n",
      " 1   version         90189 non-null  object\n",
      " 2   sum_gamerounds  90189 non-null  int64 \n",
      " 3   retention_1     90189 non-null  int64 \n",
      " 4   retention_7     90189 non-null  int64 \n",
      "dtypes: int64(4), object(1)\n",
      "memory usage: 3.4+ MB\n"
     ]
    }
   ],
   "source": [
    "df.info()"
   ]
  },
  {
   "cell_type": "code",
   "execution_count": 5,
   "id": "27c69a1a",
   "metadata": {},
   "outputs": [
    {
     "data": {
      "text/html": [
       "<div>\n",
       "<style scoped>\n",
       "    .dataframe tbody tr th:only-of-type {\n",
       "        vertical-align: middle;\n",
       "    }\n",
       "\n",
       "    .dataframe tbody tr th {\n",
       "        vertical-align: top;\n",
       "    }\n",
       "\n",
       "    .dataframe thead th {\n",
       "        text-align: right;\n",
       "    }\n",
       "</style>\n",
       "<table border=\"1\" class=\"dataframe\">\n",
       "  <thead>\n",
       "    <tr style=\"text-align: right;\">\n",
       "      <th></th>\n",
       "      <th>userid</th>\n",
       "      <th>sum_gamerounds</th>\n",
       "      <th>retention_1</th>\n",
       "      <th>retention_7</th>\n",
       "    </tr>\n",
       "  </thead>\n",
       "  <tbody>\n",
       "    <tr>\n",
       "      <th>count</th>\n",
       "      <td>9.018900e+04</td>\n",
       "      <td>90189.000000</td>\n",
       "      <td>90189.000000</td>\n",
       "      <td>90189.000000</td>\n",
       "    </tr>\n",
       "    <tr>\n",
       "      <th>mean</th>\n",
       "      <td>4.998412e+06</td>\n",
       "      <td>51.872457</td>\n",
       "      <td>0.445210</td>\n",
       "      <td>0.186065</td>\n",
       "    </tr>\n",
       "    <tr>\n",
       "      <th>std</th>\n",
       "      <td>2.883286e+06</td>\n",
       "      <td>195.050858</td>\n",
       "      <td>0.496992</td>\n",
       "      <td>0.389161</td>\n",
       "    </tr>\n",
       "    <tr>\n",
       "      <th>min</th>\n",
       "      <td>1.160000e+02</td>\n",
       "      <td>0.000000</td>\n",
       "      <td>0.000000</td>\n",
       "      <td>0.000000</td>\n",
       "    </tr>\n",
       "    <tr>\n",
       "      <th>25%</th>\n",
       "      <td>2.512230e+06</td>\n",
       "      <td>5.000000</td>\n",
       "      <td>0.000000</td>\n",
       "      <td>0.000000</td>\n",
       "    </tr>\n",
       "    <tr>\n",
       "      <th>50%</th>\n",
       "      <td>4.995815e+06</td>\n",
       "      <td>16.000000</td>\n",
       "      <td>0.000000</td>\n",
       "      <td>0.000000</td>\n",
       "    </tr>\n",
       "    <tr>\n",
       "      <th>75%</th>\n",
       "      <td>7.496452e+06</td>\n",
       "      <td>51.000000</td>\n",
       "      <td>1.000000</td>\n",
       "      <td>0.000000</td>\n",
       "    </tr>\n",
       "    <tr>\n",
       "      <th>max</th>\n",
       "      <td>9.999861e+06</td>\n",
       "      <td>49854.000000</td>\n",
       "      <td>1.000000</td>\n",
       "      <td>1.000000</td>\n",
       "    </tr>\n",
       "  </tbody>\n",
       "</table>\n",
       "</div>"
      ],
      "text/plain": [
       "             userid  sum_gamerounds   retention_1   retention_7\n",
       "count  9.018900e+04    90189.000000  90189.000000  90189.000000\n",
       "mean   4.998412e+06       51.872457      0.445210      0.186065\n",
       "std    2.883286e+06      195.050858      0.496992      0.389161\n",
       "min    1.160000e+02        0.000000      0.000000      0.000000\n",
       "25%    2.512230e+06        5.000000      0.000000      0.000000\n",
       "50%    4.995815e+06       16.000000      0.000000      0.000000\n",
       "75%    7.496452e+06       51.000000      1.000000      0.000000\n",
       "max    9.999861e+06    49854.000000      1.000000      1.000000"
      ]
     },
     "execution_count": 5,
     "metadata": {},
     "output_type": "execute_result"
    }
   ],
   "source": [
    "df.describe()"
   ]
  },
  {
   "cell_type": "markdown",
   "id": "3ef7d718",
   "metadata": {},
   "source": [
    "На данном этапе анализа мы видим, что возват игроков в целом на первый день почти 46 %, на седьмой уже меньше почти 19 %"
   ]
  },
  {
   "cell_type": "code",
   "execution_count": 6,
   "id": "f1c0e4c0",
   "metadata": {},
   "outputs": [
    {
     "data": {
      "text/plain": [
       "gate_40    45489\n",
       "gate_30    44700\n",
       "Name: version, dtype: int64"
      ]
     },
     "execution_count": 6,
     "metadata": {},
     "output_type": "execute_result"
    }
   ],
   "source": [
    "df.version.value_counts()"
   ]
  },
  {
   "cell_type": "code",
   "execution_count": 7,
   "id": "cbc0d5ba",
   "metadata": {},
   "outputs": [],
   "source": [
    "v = df.\\\n",
    "    groupby('userid', as_index=False).\\\n",
    "    agg({'version': pd.Series.nunique})"
   ]
  },
  {
   "cell_type": "code",
   "execution_count": 8,
   "id": "e43285f9",
   "metadata": {},
   "outputs": [
    {
     "data": {
      "text/html": [
       "<div>\n",
       "<style scoped>\n",
       "    .dataframe tbody tr th:only-of-type {\n",
       "        vertical-align: middle;\n",
       "    }\n",
       "\n",
       "    .dataframe tbody tr th {\n",
       "        vertical-align: top;\n",
       "    }\n",
       "\n",
       "    .dataframe thead th {\n",
       "        text-align: right;\n",
       "    }\n",
       "</style>\n",
       "<table border=\"1\" class=\"dataframe\">\n",
       "  <thead>\n",
       "    <tr style=\"text-align: right;\">\n",
       "      <th></th>\n",
       "      <th>userid</th>\n",
       "      <th>version</th>\n",
       "    </tr>\n",
       "  </thead>\n",
       "  <tbody>\n",
       "    <tr>\n",
       "      <th>0</th>\n",
       "      <td>116</td>\n",
       "      <td>1</td>\n",
       "    </tr>\n",
       "    <tr>\n",
       "      <th>1</th>\n",
       "      <td>337</td>\n",
       "      <td>1</td>\n",
       "    </tr>\n",
       "    <tr>\n",
       "      <th>2</th>\n",
       "      <td>377</td>\n",
       "      <td>1</td>\n",
       "    </tr>\n",
       "    <tr>\n",
       "      <th>3</th>\n",
       "      <td>483</td>\n",
       "      <td>1</td>\n",
       "    </tr>\n",
       "    <tr>\n",
       "      <th>4</th>\n",
       "      <td>488</td>\n",
       "      <td>1</td>\n",
       "    </tr>\n",
       "    <tr>\n",
       "      <th>5</th>\n",
       "      <td>540</td>\n",
       "      <td>1</td>\n",
       "    </tr>\n",
       "    <tr>\n",
       "      <th>6</th>\n",
       "      <td>1066</td>\n",
       "      <td>1</td>\n",
       "    </tr>\n",
       "    <tr>\n",
       "      <th>7</th>\n",
       "      <td>1444</td>\n",
       "      <td>1</td>\n",
       "    </tr>\n",
       "    <tr>\n",
       "      <th>8</th>\n",
       "      <td>1574</td>\n",
       "      <td>1</td>\n",
       "    </tr>\n",
       "    <tr>\n",
       "      <th>9</th>\n",
       "      <td>1587</td>\n",
       "      <td>1</td>\n",
       "    </tr>\n",
       "  </tbody>\n",
       "</table>\n",
       "</div>"
      ],
      "text/plain": [
       "   userid  version\n",
       "0     116        1\n",
       "1     337        1\n",
       "2     377        1\n",
       "3     483        1\n",
       "4     488        1\n",
       "5     540        1\n",
       "6    1066        1\n",
       "7    1444        1\n",
       "8    1574        1\n",
       "9    1587        1"
      ]
     },
     "execution_count": 8,
     "metadata": {},
     "output_type": "execute_result"
    }
   ],
   "source": [
    "v.head(10)"
   ]
  },
  {
   "cell_type": "code",
   "execution_count": 9,
   "id": "51eadc19",
   "metadata": {},
   "outputs": [
    {
     "data": {
      "text/plain": [
       "userid     0\n",
       "version    0\n",
       "dtype: int64"
      ]
     },
     "execution_count": 9,
     "metadata": {},
     "output_type": "execute_result"
    }
   ],
   "source": [
    "v.query('version > 1').count()"
   ]
  },
  {
   "cell_type": "markdown",
   "id": "68b169dd",
   "metadata": {},
   "source": [
    "Игроков попавших одновременно в контрольную и тестовую группу нет"
   ]
  },
  {
   "cell_type": "code",
   "execution_count": 10,
   "id": "59360e33",
   "metadata": {},
   "outputs": [],
   "source": [
    "from scipy.stats import mannwhitneyu\n",
    "from scipy.stats import ttest_ind"
   ]
  },
  {
   "cell_type": "code",
   "execution_count": 11,
   "id": "9a6a5fac",
   "metadata": {},
   "outputs": [
    {
     "data": {
      "text/plain": [
       "MannwhitneyuResult(statistic=1024331250.5, pvalue=0.05020880772044255)"
      ]
     },
     "execution_count": 11,
     "metadata": {},
     "output_type": "execute_result"
    }
   ],
   "source": [
    "mannwhitneyu(df[df.version == 'gate_30'].sum_gamerounds,\n",
    "             df[df.version == 'gate_40'].sum_gamerounds)"
   ]
  },
  {
   "cell_type": "markdown",
   "id": "69e3adda",
   "metadata": {},
   "source": [
    "pvalue очень блиско к 0.05 соответственно этого теста будит не достаточно для принятия решения"
   ]
  },
  {
   "cell_type": "markdown",
   "id": "5c540f60",
   "metadata": {},
   "source": [
    "Проверим сколько игроков возвращаются к игре через 1 день по контройльной и тестовой группе"
   ]
  },
  {
   "cell_type": "code",
   "execution_count": 12,
   "id": "91f40831",
   "metadata": {},
   "outputs": [
    {
     "data": {
      "text/plain": [
       "version\n",
       "gate_30    0.448188\n",
       "gate_40    0.442283\n",
       "Name: retention_1, dtype: float64"
      ]
     },
     "execution_count": 12,
     "metadata": {},
     "output_type": "execute_result"
    }
   ],
   "source": [
    "oneday = df.retention_1.groupby(df.version).sum()/df.retention_1.groupby(df.version).count()\n",
    "oneday"
   ]
  },
  {
   "cell_type": "markdown",
   "id": "391de42e",
   "metadata": {},
   "source": [
    "Мы видим очень маленько статистическое различие. Проверим этот показатель через 7 дней"
   ]
  },
  {
   "cell_type": "code",
   "execution_count": 13,
   "id": "e0aac3dc",
   "metadata": {},
   "outputs": [
    {
     "data": {
      "text/plain": [
       "version\n",
       "gate_30    0.190201\n",
       "gate_40    0.182000\n",
       "Name: retention_7, dtype: float64"
      ]
     },
     "execution_count": 13,
     "metadata": {},
     "output_type": "execute_result"
    }
   ],
   "source": [
    "sevenday = df.retention_7.groupby(df.version).sum()/df.retention_7.groupby(df.version).count()\n",
    "sevenday"
   ]
  },
  {
   "cell_type": "markdown",
   "id": "2954f54f",
   "metadata": {},
   "source": [
    "Через 7 дней порог входа в игру больше в контрольной группе, но только на 0,8%"
   ]
  },
  {
   "cell_type": "markdown",
   "id": "3a8d89a0",
   "metadata": {},
   "source": [
    "По этим данным можно сделать вывод, что вывод новой версии не поможет оставить пользователей в игре, поэтому оставляем прежнюю версию"
   ]
  },
  {
   "cell_type": "code",
   "execution_count": 14,
   "id": "a3fdd8bd",
   "metadata": {},
   "outputs": [],
   "source": [
    "from scipy.stats import shapiro"
   ]
  },
  {
   "cell_type": "code",
   "execution_count": 15,
   "id": "28e9d28b",
   "metadata": {},
   "outputs": [
    {
     "name": "stdout",
     "output_type": "stream",
     "text": [
      "Distribution is not normal\n",
      "\n"
     ]
    }
   ],
   "source": [
    "alpha = 0.05\n",
    "\n",
    "st = shapiro(df.retention_1)\n",
    "print('Distribution is {}normal\\n'.format( {True:'not ',\n",
    "False:''}[st[1] < alpha]));"
   ]
  },
  {
   "cell_type": "code",
   "execution_count": 16,
   "id": "7ba1accd",
   "metadata": {},
   "outputs": [
    {
     "name": "stdout",
     "output_type": "stream",
     "text": [
      "Distribution is not normal\n",
      "\n"
     ]
    }
   ],
   "source": [
    "alpha = 0.05\n",
    "\n",
    "st = shapiro(df.retention_7)\n",
    "print('Distribution is {}normal\\n'.format( {True:'not ',\n",
    "False:''}[st[1] < alpha]));"
   ]
  },
  {
   "cell_type": "code",
   "execution_count": 17,
   "id": "ffa96794",
   "metadata": {},
   "outputs": [],
   "source": [
    "import scipy.stats as stats"
   ]
  },
  {
   "cell_type": "code",
   "execution_count": 18,
   "id": "88e4e9e6",
   "metadata": {},
   "outputs": [],
   "source": [
    "control = df.query('version == \"gate_30\"')\n",
    "\n",
    "test = df.query('version == \"gate_40\"')\n"
   ]
  },
  {
   "cell_type": "code",
   "execution_count": 19,
   "id": "87d07a9d",
   "metadata": {},
   "outputs": [
    {
     "data": {
      "text/plain": [
       "44700"
      ]
     },
     "execution_count": 19,
     "metadata": {},
     "output_type": "execute_result"
    }
   ],
   "source": [
    "allcontrol = control.shape[0]\n",
    "allcontrol"
   ]
  },
  {
   "cell_type": "code",
   "execution_count": 20,
   "id": "0007ff47",
   "metadata": {},
   "outputs": [
    {
     "data": {
      "text/plain": [
       "45489"
      ]
     },
     "execution_count": 20,
     "metadata": {},
     "output_type": "execute_result"
    }
   ],
   "source": [
    "alltest = test.shape[0]\n",
    "alltest"
   ]
  },
  {
   "cell_type": "code",
   "execution_count": 21,
   "id": "60e2a9b1",
   "metadata": {},
   "outputs": [
    {
     "data": {
      "text/plain": [
       "6676"
      ]
     },
     "execution_count": 21,
     "metadata": {},
     "output_type": "execute_result"
    }
   ],
   "source": [
    "controluser = control[(control['retention_1'] == 1) & (control['retention_7'] == 1)].shape[0]\n",
    "controluser"
   ]
  },
  {
   "cell_type": "code",
   "execution_count": 22,
   "id": "6b236534",
   "metadata": {},
   "outputs": [
    {
     "data": {
      "text/plain": [
       "6506"
      ]
     },
     "execution_count": 22,
     "metadata": {},
     "output_type": "execute_result"
    }
   ],
   "source": [
    "testuser = test[(test['retention_1'] == 1) & (test['retention_7'] == 1)].shape[0]\n",
    "testuser"
   ]
  },
  {
   "cell_type": "markdown",
   "id": "0814a3a0",
   "metadata": {},
   "source": [
    "Выясним сколько пользователей заходили и в первый день и седьмой по группам"
   ]
  },
  {
   "cell_type": "code",
   "execution_count": 23,
   "id": "e0bdcea5",
   "metadata": {},
   "outputs": [
    {
     "data": {
      "text/plain": [
       "14.935123042505595"
      ]
     },
     "execution_count": 23,
     "metadata": {},
     "output_type": "execute_result"
    }
   ],
   "source": [
    "users_add_control = controluser/allcontrol*100\n",
    "users_add_control"
   ]
  },
  {
   "cell_type": "code",
   "execution_count": 24,
   "id": "59ebce5f",
   "metadata": {},
   "outputs": [
    {
     "data": {
      "text/plain": [
       "14.302358812020488"
      ]
     },
     "execution_count": 24,
     "metadata": {},
     "output_type": "execute_result"
    }
   ],
   "source": [
    "users_add_test = testuser/alltest*100\n",
    "users_add_test"
   ]
  },
  {
   "cell_type": "code",
   "execution_count": 25,
   "id": "9ed2cac3",
   "metadata": {},
   "outputs": [
    {
     "data": {
      "text/plain": [
       "0.6327642304851064"
      ]
     },
     "execution_count": 25,
     "metadata": {},
     "output_type": "execute_result"
    }
   ],
   "source": [
    "dif = users_add_control-users_add_test\n",
    "dif"
   ]
  },
  {
   "cell_type": "markdown",
   "id": "1df431aa",
   "metadata": {},
   "source": [
    "Мы видим, что в контройльной группе посещали игру и в первый и в седьмой день на 0,63% больше, что еще раз доказывает нецелесообразность выкатывать обновление "
   ]
  },
  {
   "cell_type": "code",
   "execution_count": 26,
   "id": "9a86f7b9",
   "metadata": {},
   "outputs": [
    {
     "data": {
      "text/html": [
       "<div>\n",
       "<style scoped>\n",
       "    .dataframe tbody tr th:only-of-type {\n",
       "        vertical-align: middle;\n",
       "    }\n",
       "\n",
       "    .dataframe tbody tr th {\n",
       "        vertical-align: top;\n",
       "    }\n",
       "\n",
       "    .dataframe thead th {\n",
       "        text-align: right;\n",
       "    }\n",
       "</style>\n",
       "<table border=\"1\" class=\"dataframe\">\n",
       "  <thead>\n",
       "    <tr style=\"text-align: right;\">\n",
       "      <th></th>\n",
       "      <th>userid</th>\n",
       "      <th>sum_gamerounds</th>\n",
       "      <th>retention_1</th>\n",
       "      <th>retention_7</th>\n",
       "    </tr>\n",
       "  </thead>\n",
       "  <tbody>\n",
       "    <tr>\n",
       "      <th>count</th>\n",
       "      <td>4.470000e+04</td>\n",
       "      <td>44700.000000</td>\n",
       "      <td>44700.000000</td>\n",
       "      <td>44700.000000</td>\n",
       "    </tr>\n",
       "    <tr>\n",
       "      <th>mean</th>\n",
       "      <td>4.987564e+06</td>\n",
       "      <td>52.456264</td>\n",
       "      <td>0.448188</td>\n",
       "      <td>0.190201</td>\n",
       "    </tr>\n",
       "    <tr>\n",
       "      <th>std</th>\n",
       "      <td>2.881026e+06</td>\n",
       "      <td>256.716423</td>\n",
       "      <td>0.497314</td>\n",
       "      <td>0.392464</td>\n",
       "    </tr>\n",
       "    <tr>\n",
       "      <th>min</th>\n",
       "      <td>1.160000e+02</td>\n",
       "      <td>0.000000</td>\n",
       "      <td>0.000000</td>\n",
       "      <td>0.000000</td>\n",
       "    </tr>\n",
       "    <tr>\n",
       "      <th>25%</th>\n",
       "      <td>2.505469e+06</td>\n",
       "      <td>5.000000</td>\n",
       "      <td>0.000000</td>\n",
       "      <td>0.000000</td>\n",
       "    </tr>\n",
       "    <tr>\n",
       "      <th>50%</th>\n",
       "      <td>4.983631e+06</td>\n",
       "      <td>17.000000</td>\n",
       "      <td>0.000000</td>\n",
       "      <td>0.000000</td>\n",
       "    </tr>\n",
       "    <tr>\n",
       "      <th>75%</th>\n",
       "      <td>7.481497e+06</td>\n",
       "      <td>50.000000</td>\n",
       "      <td>1.000000</td>\n",
       "      <td>0.000000</td>\n",
       "    </tr>\n",
       "    <tr>\n",
       "      <th>max</th>\n",
       "      <td>9.999710e+06</td>\n",
       "      <td>49854.000000</td>\n",
       "      <td>1.000000</td>\n",
       "      <td>1.000000</td>\n",
       "    </tr>\n",
       "  </tbody>\n",
       "</table>\n",
       "</div>"
      ],
      "text/plain": [
       "             userid  sum_gamerounds   retention_1   retention_7\n",
       "count  4.470000e+04    44700.000000  44700.000000  44700.000000\n",
       "mean   4.987564e+06       52.456264      0.448188      0.190201\n",
       "std    2.881026e+06      256.716423      0.497314      0.392464\n",
       "min    1.160000e+02        0.000000      0.000000      0.000000\n",
       "25%    2.505469e+06        5.000000      0.000000      0.000000\n",
       "50%    4.983631e+06       17.000000      0.000000      0.000000\n",
       "75%    7.481497e+06       50.000000      1.000000      0.000000\n",
       "max    9.999710e+06    49854.000000      1.000000      1.000000"
      ]
     },
     "execution_count": 26,
     "metadata": {},
     "output_type": "execute_result"
    }
   ],
   "source": [
    "control.describe()"
   ]
  },
  {
   "cell_type": "code",
   "execution_count": 27,
   "id": "a111bc57",
   "metadata": {},
   "outputs": [
    {
     "data": {
      "text/html": [
       "<div>\n",
       "<style scoped>\n",
       "    .dataframe tbody tr th:only-of-type {\n",
       "        vertical-align: middle;\n",
       "    }\n",
       "\n",
       "    .dataframe tbody tr th {\n",
       "        vertical-align: top;\n",
       "    }\n",
       "\n",
       "    .dataframe thead th {\n",
       "        text-align: right;\n",
       "    }\n",
       "</style>\n",
       "<table border=\"1\" class=\"dataframe\">\n",
       "  <thead>\n",
       "    <tr style=\"text-align: right;\">\n",
       "      <th></th>\n",
       "      <th>userid</th>\n",
       "      <th>sum_gamerounds</th>\n",
       "      <th>retention_1</th>\n",
       "      <th>retention_7</th>\n",
       "    </tr>\n",
       "  </thead>\n",
       "  <tbody>\n",
       "    <tr>\n",
       "      <th>count</th>\n",
       "      <td>4.548900e+04</td>\n",
       "      <td>45489.000000</td>\n",
       "      <td>45489.000000</td>\n",
       "      <td>45489.000000</td>\n",
       "    </tr>\n",
       "    <tr>\n",
       "      <th>mean</th>\n",
       "      <td>5.009073e+06</td>\n",
       "      <td>51.298776</td>\n",
       "      <td>0.442283</td>\n",
       "      <td>0.182000</td>\n",
       "    </tr>\n",
       "    <tr>\n",
       "      <th>std</th>\n",
       "      <td>2.885496e+06</td>\n",
       "      <td>103.294416</td>\n",
       "      <td>0.496663</td>\n",
       "      <td>0.385849</td>\n",
       "    </tr>\n",
       "    <tr>\n",
       "      <th>min</th>\n",
       "      <td>3.770000e+02</td>\n",
       "      <td>0.000000</td>\n",
       "      <td>0.000000</td>\n",
       "      <td>0.000000</td>\n",
       "    </tr>\n",
       "    <tr>\n",
       "      <th>25%</th>\n",
       "      <td>2.517171e+06</td>\n",
       "      <td>5.000000</td>\n",
       "      <td>0.000000</td>\n",
       "      <td>0.000000</td>\n",
       "    </tr>\n",
       "    <tr>\n",
       "      <th>50%</th>\n",
       "      <td>5.007329e+06</td>\n",
       "      <td>16.000000</td>\n",
       "      <td>0.000000</td>\n",
       "      <td>0.000000</td>\n",
       "    </tr>\n",
       "    <tr>\n",
       "      <th>75%</th>\n",
       "      <td>7.510762e+06</td>\n",
       "      <td>52.000000</td>\n",
       "      <td>1.000000</td>\n",
       "      <td>0.000000</td>\n",
       "    </tr>\n",
       "    <tr>\n",
       "      <th>max</th>\n",
       "      <td>9.999861e+06</td>\n",
       "      <td>2640.000000</td>\n",
       "      <td>1.000000</td>\n",
       "      <td>1.000000</td>\n",
       "    </tr>\n",
       "  </tbody>\n",
       "</table>\n",
       "</div>"
      ],
      "text/plain": [
       "             userid  sum_gamerounds   retention_1   retention_7\n",
       "count  4.548900e+04    45489.000000  45489.000000  45489.000000\n",
       "mean   5.009073e+06       51.298776      0.442283      0.182000\n",
       "std    2.885496e+06      103.294416      0.496663      0.385849\n",
       "min    3.770000e+02        0.000000      0.000000      0.000000\n",
       "25%    2.517171e+06        5.000000      0.000000      0.000000\n",
       "50%    5.007329e+06       16.000000      0.000000      0.000000\n",
       "75%    7.510762e+06       52.000000      1.000000      0.000000\n",
       "max    9.999861e+06     2640.000000      1.000000      1.000000"
      ]
     },
     "execution_count": 27,
     "metadata": {},
     "output_type": "execute_result"
    }
   ],
   "source": [
    "test.describe()"
   ]
  },
  {
   "cell_type": "markdown",
   "id": "5c243991",
   "metadata": {},
   "source": [
    "По этим данным так же видно, что в контрольной группе возвращалось больше пользователей на седьмой день, что подтверждает правильность ранее сделанного вывода сохранения изначальной версии "
   ]
  },
  {
   "cell_type": "code",
   "execution_count": null,
   "id": "8d4c65b2",
   "metadata": {},
   "outputs": [],
   "source": []
  }
 ],
 "metadata": {
  "kernelspec": {
   "display_name": "Python 3 (ipykernel)",
   "language": "python",
   "name": "python3"
  },
  "language_info": {
   "codemirror_mode": {
    "name": "ipython",
    "version": 3
   },
   "file_extension": ".py",
   "mimetype": "text/x-python",
   "name": "python",
   "nbconvert_exporter": "python",
   "pygments_lexer": "ipython3",
   "version": "3.9.13"
  }
 },
 "nbformat": 4,
 "nbformat_minor": 5
}
